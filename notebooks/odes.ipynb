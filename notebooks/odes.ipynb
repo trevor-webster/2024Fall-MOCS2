{
 "cells": [
  {
   "cell_type": "markdown",
   "id": "9bf28329-24f4-4d24-a5b8-cb997a652160",
   "metadata": {},
   "source": [
    "# Writing mean-field models\n",
    "\n",
    "Compartmental models provide a clear map of the variables needed to describe a system and of the mechanisms involved in their dynamics. We can thus follow a simple recipe to go from a compartmental model to a system of differential equations tracking the rate of change of key variables over time."
   ]
  },
  {
   "cell_type": "markdown",
   "id": "4b56a75f-17a6-4e40-8b98-fed152f39048",
   "metadata": {},
   "source": [
    "From these maps, it will be straightforward to write down the rate of change of quantities over time. We will denote $dN(t)/dt$ the instantaneous rate of change $dN(t)$ in the quantity $N(t)$ calculated over some infinitely small time window $dt$. One can interpret it as the change in $N(t)$ over a small change in $t$. In other words: $dN(t)/dt$ is the slope of the time series of $N(t)$ at time $t$. And as it turns out, we will be able to recover the unknown time series $N(t)$ from the differential equation $dN(t)/dt$."
   ]
  },
  {
   "cell_type": "markdown",
   "id": "5e565b40",
   "metadata": {},
   "source": [
    "The general recipe to write is as follows.\n",
    "\n",
    "*i. Every compartment corresponds to a variable that needs to be tracked over time and for which we need a differential equation.*\n",
    "\n",
    "*ii. Every arrow entering a compartment corresponds to a positive term in the differential equation for that variable.*\n",
    "\n",
    "*iii. Every arrow leaving a compartment corresponds to a negative term in the differential equation for that variable*\n",
    "\n",
    "Here are some rapid fire examples:"
   ]
  },
  {
   "cell_type": "markdown",
   "id": "888c867d-3bdd-4a5a-80a5-844f31ee675d",
   "metadata": {},
   "source": [
    "![compartment_schematic1](assets/schematic1.png)"
   ]
  },
  {
   "cell_type": "markdown",
   "id": "a1ab58dd",
   "metadata": {},
   "source": [
    "We can follow the dynamics of $N(t)$ using the following differential equation:\n",
    "$$\n",
    "\\begin{align}\n",
    "\\frac{d}{dt}N(t) &= \\alpha - \\beta N(t) \\; .\n",
    "\\end{align}\n",
    "$$\n",
    "There is a constant input $\\alpha$ and a variable output $\\beta N(t)$. Therefore, over a small time window $dt$, $N(t)$ will change by the difference between the input and the output. That's it! Things can get slightly more complicated in more complicated models."
   ]
  },
  {
   "cell_type": "markdown",
   "id": "90d719fd",
   "metadata": {},
   "source": [
    "![compartment_schematic2](assets/schematic2.png)"
   ]
  },
  {
   "cell_type": "markdown",
   "id": "22a3f78b",
   "metadata": {},
   "source": [
    "Two compartments so, as a general rule of thumb, we should need two variables. And so we write the following system of differential equations:\n",
    "$$\n",
    "\\begin{align}\n",
    "\\frac{d}{dt}E(t) &= \\beta N(t) - \\alpha E(t) \\; , \\\\\n",
    "\\frac{d}{dt}N(t) &= \\alpha E(t) - \\beta N(t) \\; .\n",
    "\\end{align}\n",
    "$$\n",
    "\n",
    "However, in this case the expected total number of agents should never change and the total population $P$ should always be equal to $P(t) = E(t) + N(t)$. We can convince ourselves that this population should not change since its derivative is equal to zero; which means no change! Formally, this can be written as\n",
    "$$\n",
    "\\begin{align}\n",
    "\\frac{d}{dt}P(t) &= \\frac{d}{dt}E(t) + \\frac{d}{dt}P(t) = 0 \\; .\n",
    "\\end{align}\n",
    "$$\n",
    "So while our system is described by two variables, it has only one *degree of freedom*. Meaning we only need one quantity and we know the state of the entire system. If we know $E(t)$, we know that $N(t) = P - E(t)$. We therefore only need one of the two differential equations to describe the system above. But if we look at the next system, we'll see why that doesn't work if the population isn't conserved"
   ]
  },
  {
   "cell_type": "markdown",
   "id": "fbbc1e4c",
   "metadata": {},
   "source": [
    "![compartment_schematic3](assets/schematic3.png)"
   ]
  },
  {
   "cell_type": "markdown",
   "id": "297571d0",
   "metadata": {},
   "source": [
    "We follow our general recipe and write,\n",
    "$$\n",
    "\\begin{align}\n",
    "\\frac{d}{dt}E(t) &= \\beta N(t) - \\alpha E(t) \\; , \\\\\n",
    "\\frac{d}{dt}N(t) &= \\alpha E(t) + \\gamma N(t) - \\beta N(t) \\; .\n",
    "\\end{align}\n",
    "$$\n",
    "The population $P$ now follows\n",
    "$$\n",
    "\\begin{align}\n",
    "\\frac{d}{dt}P(t) &= \\frac{d}{dt}E(t) + \\frac{d}{dt}P(t) = \\gamma N(t) \\; .\n",
    "\\end{align}\n",
    "$$\n",
    "The population changes! So after we write down an equation for $E(t)$, we either need $dP(t)/dt$ so that we can track $P(t)$ and use $N(t) = P(t) - E(t)$ or we need to directly use $N(t)$. The system therefore has two degrees of freedom since we need two quantities to fully describe its state and dynamics.\n",
    "\n",
    "In general, every conserved quantity provides an opportunity to reduce the number of degrees of freedom in our system of equations."
   ]
  },
  {
   "cell_type": "markdown",
   "id": "2d44c7d1",
   "metadata": {},
   "source": [
    ":::{note}\n",
    "These equations are all called *ordinary differential equations* (or ODEs) since they all depend on a single independent variable: time. We will therefore often refer to these mathematical models as system of ODEs for simplicity..\n",
    ":::"
   ]
  },
  {
   "cell_type": "markdown",
   "id": "b80abb67",
   "metadata": {},
   "source": [
    "## SEIRS epidemiological model"
   ]
  },
  {
   "cell_type": "markdown",
   "id": "6cb7473e",
   "metadata": {},
   "source": [
    "![SEIRS](assets/schematic_SEIRS.png)"
   ]
  },
  {
   "cell_type": "markdown",
   "id": "8b8837d1",
   "metadata": {},
   "source": [
    "We follow our general recipe and write,\n",
    "$$\n",
    "\\begin{align}\n",
    "\\frac{d}{dt}S(t) &= \\delta R(t) - \\beta S(t)I(t) \\; , \\\\\n",
    "\\frac{d}{dt}E(t) &= \\beta S(t)I(t) - \\alpha E(t) \\; , \\\\\n",
    "\\frac{d}{dt}I(t) &= \\alpha E(t) - \\gamma I(t) \\; , \\\\\n",
    "\\end{align}\n",
    "$$\n",
    "\n",
    "Again, we do not need a fourth equation since this is a conserved population $S(t) + E(t) + I(t) + R(t) = N$. We could always get $R(t)$ from the three other degrees of freedom: $R(t) = N - S(t) - E(t) - I(t)$. However, it can be a good idea to be thorough and write the fourth equation,\n",
    "$$\n",
    "\\begin{align}\n",
    "\\frac{d}{dt}R(t) &= \\gamma I(t) - \\delta R(t) \\; ,\n",
    "\\end{align}\n",
    "$$\n",
    "since the condition of a conserved population can also be used to double check any solution we get out of the system. In fact, it can also help us make sure we wrote down the equations correctly since it implies that $\\frac{d}{dt}S(t) + \\frac{d}{dt}E(t) + \\frac{d}{dt}I(t) + \\frac{d}{dt}R(t) = 0$, which we easily check in this case. In general, we can also test the validity of model runs by testing for a conserved population. But this also brings us to our next topic. How do we actually run these models?\n"
   ]
  }
 ],
 "metadata": {
  "kernelspec": {
   "display_name": "Python 3 (ipykernel)",
   "language": "python",
   "name": "python3"
  },
  "language_info": {
   "codemirror_mode": {
    "name": "ipython",
    "version": 3
   },
   "file_extension": ".py",
   "mimetype": "text/x-python",
   "name": "python",
   "nbconvert_exporter": "python",
   "pygments_lexer": "ipython3",
   "version": "3.10.12"
  }
 },
 "nbformat": 4,
 "nbformat_minor": 5
}
